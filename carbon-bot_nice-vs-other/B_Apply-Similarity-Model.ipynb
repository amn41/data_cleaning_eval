{
 "cells": [
  {
   "cell_type": "markdown",
   "id": "6849f934-83ff-4ee5-b154-bfbc29809496",
   "metadata": {},
   "source": [
    "# B. Apply Similarity Model to Determine \"nice\" and \"not so nice\" Examples"
   ]
  },
  {
   "cell_type": "code",
   "execution_count": 1,
   "id": "0a4a2bf4-6fe0-4e16-8aa0-1b39f848ffe0",
   "metadata": {},
   "outputs": [],
   "source": [
    "%%capture\n",
    "pip install -U sentence-transformers"
   ]
  },
  {
   "cell_type": "code",
   "execution_count": 2,
   "id": "793aa0fd-fa55-401f-b342-2c10f5a94eda",
   "metadata": {},
   "outputs": [
    {
     "name": "stderr",
     "output_type": "stream",
     "text": [
      "/Users/kabu/Documents/workspace/rasa2/.venv/lib/python3.8/site-packages/tqdm/auto.py:22: TqdmWarning: IProgress not found. Please update jupyter and ipywidgets. See https://ipywidgets.readthedocs.io/en/stable/user_install.html\n",
      "  from .autonotebook import tqdm as notebook_tqdm\n"
     ]
    }
   ],
   "source": [
    "from pathlib import Path\n",
    "import numpy as np\n",
    "from numpy.linalg import norm\n",
    "import pandas as pd\n",
    "\n",
    "from sentence_transformers import SentenceTransformer\n",
    "\n",
    "from framework.utils import eda_utils "
   ]
  },
  {
   "cell_type": "code",
   "execution_count": 3,
   "id": "eebd9b9d-63bb-4294-bc5c-40a7d9a7a09a",
   "metadata": {},
   "outputs": [],
   "source": [
    "CARBON_BOT = Path('../../../../carbon-bot-e2e')"
   ]
  },
  {
   "cell_type": "markdown",
   "id": "4697e662-65b6-41ab-b941-16359284c053",
   "metadata": {},
   "source": [
    "## Compute Similarities\n",
    "---"
   ]
  },
  {
   "cell_type": "code",
   "execution_count": 4,
   "id": "3b9d2437-468c-4a1e-bc82-14e9c72db4aa",
   "metadata": {},
   "outputs": [
    {
     "name": "stderr",
     "output_type": "stream",
     "text": [
      "\u001b[93m/Users/kabu/Documents/workspace/rasa2/rasa/shared/utils/io.py:98: UserWarning: Training data file /Users/kabu/Documents/workspace/carbon-bot-e2e/data/nlu.yml has a lower format version than your Rasa Open Source installation: 2.0 < 3.1. Rasa Open Source will read the file as a version 3.1 file. Please update your version key to 3.1. See https://rasa.com/docs/rasa/training-data-format.\n",
      "\u001b[0m\u001b[93m/Users/kabu/Documents/workspace/rasa2/rasa/shared/utils/io.py:98: UserWarning: Training data file /Users/kabu/Documents/workspace/empirical-analysis/workspace/other/carbon-bot_nice-vs-other/gold-samples.yml has a lower format version than your Rasa Open Source installation: 2.0 < 3.1. Rasa Open Source will read the file as a version 3.1 file. Please update your version key to 3.1. See https://rasa.com/docs/rasa/training-data-format.\n",
      "\u001b[0m"
     ]
    }
   ],
   "source": [
    "nlu_examples = eda_utils.load_nlu_data(CARBON_BOT /\"data\" / \"nlu.yml\")\n",
    "gold_examples = eda_utils.load_nlu_data(\"./gold-samples.yml\")"
   ]
  },
  {
   "cell_type": "code",
   "execution_count": 5,
   "id": "04b1acc1-62d1-4631-b966-6c17e7f75adf",
   "metadata": {},
   "outputs": [],
   "source": [
    "model = SentenceTransformer('sentence-transformers/all-MiniLM-L6-v2')"
   ]
  },
  {
   "cell_type": "markdown",
   "id": "f4e07ea0-5fed-4dfa-9951-99a9b275c665",
   "metadata": {},
   "source": [
    "#### Precompute all embeddings"
   ]
  },
  {
   "cell_type": "code",
   "execution_count": 6,
   "id": "b10cda0a-db27-4cdd-95ce-bb1e6d961c5d",
   "metadata": {},
   "outputs": [
    {
     "name": "stdout",
     "output_type": "stream",
     "text": [
      "CPU times: user 29.1 s, sys: 1.5 s, total: 30.6 s\n",
      "Wall time: 30.3 s\n"
     ]
    }
   ],
   "source": [
    "%%time\n",
    "col_sentence_embedding = \"sentence_embedding\"\n",
    "for df in [nlu_examples, gold_examples]:\n",
    "    df[col_sentence_embedding] = df['text'].apply(lambda text : model.encode([text])[0])\n",
    "    df = df.drop(columns=['entities'])"
   ]
  },
  {
   "cell_type": "markdown",
   "id": "d5dfdd1d-13f1-4912-82b2-3532e790197b",
   "metadata": {},
   "source": [
    "#### Just iterate, because lazy :)"
   ]
  },
  {
   "cell_type": "code",
   "execution_count": 7,
   "id": "c20e12f2-2786-49e3-96c4-eec2a157228b",
   "metadata": {},
   "outputs": [],
   "source": [
    "import numpy as np\n",
    "from numpy.linalg import norm"
   ]
  },
  {
   "cell_type": "code",
   "execution_count": 8,
   "id": "4dc85958-3686-44ed-9329-ff302709e001",
   "metadata": {},
   "outputs": [
    {
     "name": "stdout",
     "output_type": "stream",
     "text": [
      "CPU times: user 1min 9s, sys: 613 ms, total: 1min 9s\n",
      "Wall time: 1min 10s\n"
     ]
    }
   ],
   "source": [
    "%%time\n",
    "cos_sim = np.zeros(shape=(len(nlu_examples), len(gold_examples)))\n",
    "for idx_nlu in range(len(nlu_examples)):\n",
    "    for idx_gold in range(len(gold_examples)):\n",
    "        a = nlu_examples.iloc[idx_nlu][col_sentence_embedding]\n",
    "        b = gold_examples.iloc[idx_gold][col_sentence_embedding]\n",
    "        cos_sim[idx_nlu, idx_gold] = np.dot(a, b)/(norm(a)*norm(b))"
   ]
  },
  {
   "cell_type": "markdown",
   "id": "987a83bc-0720-4859-a409-95e03e010521",
   "metadata": {
    "tags": []
   },
   "source": [
    "#### Extend Data with Max. Similarity Info "
   ]
  },
  {
   "cell_type": "code",
   "execution_count": 9,
   "id": "5bf37af3-3113-4464-bcff-b7d1d20b3e55",
   "metadata": {},
   "outputs": [],
   "source": [
    "nlu_examples[\"argmax-gold-example\"] = np.argmax(cos_sim, axis=1)\n",
    "nlu_examples[\"max-similarity\"] = np.max(cos_sim, axis=1)\n",
    "nlu_examples[\"argmax-intent\"] = nlu_examples[\"argmax-gold-example\"].apply(lambda gold_idx: gold_examples.iloc[gold_idx]['intent'])"
   ]
  },
  {
   "cell_type": "code",
   "execution_count": 10,
   "id": "e0de82dc-7a0d-46c1-84bf-7b24694e311b",
   "metadata": {},
   "outputs": [
    {
     "data": {
      "text/html": [
       "<div>\n",
       "<style scoped>\n",
       "    .dataframe tbody tr th:only-of-type {\n",
       "        vertical-align: middle;\n",
       "    }\n",
       "\n",
       "    .dataframe tbody tr th {\n",
       "        vertical-align: top;\n",
       "    }\n",
       "\n",
       "    .dataframe thead th {\n",
       "        text-align: right;\n",
       "    }\n",
       "</style>\n",
       "<table border=\"1\" class=\"dataframe\">\n",
       "  <thead>\n",
       "    <tr style=\"text-align: right;\">\n",
       "      <th></th>\n",
       "      <th>text</th>\n",
       "      <th>intent</th>\n",
       "      <th>argmax-intent</th>\n",
       "      <th>max-similarity</th>\n",
       "    </tr>\n",
       "  </thead>\n",
       "  <tbody>\n",
       "    <tr>\n",
       "      <th>0</th>\n",
       "      <td>**YES**</td>\n",
       "      <td>affirm</td>\n",
       "      <td>affirm</td>\n",
       "      <td>0.549619</td>\n",
       "    </tr>\n",
       "    <tr>\n",
       "      <th>1</th>\n",
       "      <td>*YES*</td>\n",
       "      <td>affirm</td>\n",
       "      <td>affirm</td>\n",
       "      <td>0.646484</td>\n",
       "    </tr>\n",
       "    <tr>\n",
       "      <th>2</th>\n",
       "      <td>As I've said, yes.</td>\n",
       "      <td>affirm</td>\n",
       "      <td>affirm</td>\n",
       "      <td>0.434290</td>\n",
       "    </tr>\n",
       "    <tr>\n",
       "      <th>3</th>\n",
       "      <td>I think so</td>\n",
       "      <td>affirm</td>\n",
       "      <td>affirm</td>\n",
       "      <td>1.000000</td>\n",
       "    </tr>\n",
       "    <tr>\n",
       "      <th>4</th>\n",
       "      <td>I think yes</td>\n",
       "      <td>affirm</td>\n",
       "      <td>affirm</td>\n",
       "      <td>0.869060</td>\n",
       "    </tr>\n",
       "    <tr>\n",
       "      <th>...</th>\n",
       "      <td>...</td>\n",
       "      <td>...</td>\n",
       "      <td>...</td>\n",
       "      <td>...</td>\n",
       "    </tr>\n",
       "    <tr>\n",
       "      <th>2512</th>\n",
       "      <td>whats'your name</td>\n",
       "      <td>faq</td>\n",
       "      <td>greet</td>\n",
       "      <td>0.431908</td>\n",
       "    </tr>\n",
       "    <tr>\n",
       "      <th>2513</th>\n",
       "      <td>what's your age?</td>\n",
       "      <td>faq</td>\n",
       "      <td>estimate_emissions</td>\n",
       "      <td>0.369015</td>\n",
       "    </tr>\n",
       "    <tr>\n",
       "      <th>2514</th>\n",
       "      <td>who are you</td>\n",
       "      <td>faq</td>\n",
       "      <td>express_positive-emo</td>\n",
       "      <td>0.478335</td>\n",
       "    </tr>\n",
       "    <tr>\n",
       "      <th>2515</th>\n",
       "      <td>Carbon offsets will not affect climate !</td>\n",
       "      <td>faq</td>\n",
       "      <td>inquire-ask_clarification-offsets</td>\n",
       "      <td>0.653187</td>\n",
       "    </tr>\n",
       "    <tr>\n",
       "      <th>2516</th>\n",
       "      <td>So if I give you money its ok to destroy the c...</td>\n",
       "      <td>faq</td>\n",
       "      <td>faq</td>\n",
       "      <td>0.391764</td>\n",
       "    </tr>\n",
       "  </tbody>\n",
       "</table>\n",
       "<p>2517 rows × 4 columns</p>\n",
       "</div>"
      ],
      "text/plain": [
       "                                                   text  intent  \\\n",
       "0                                               **YES**  affirm   \n",
       "1                                                 *YES*  affirm   \n",
       "2                                    As I've said, yes.  affirm   \n",
       "3                                            I think so  affirm   \n",
       "4                                           I think yes  affirm   \n",
       "...                                                 ...     ...   \n",
       "2512                                    whats'your name     faq   \n",
       "2513                                   what's your age?     faq   \n",
       "2514                                        who are you     faq   \n",
       "2515           Carbon offsets will not affect climate !     faq   \n",
       "2516  So if I give you money its ok to destroy the c...     faq   \n",
       "\n",
       "                          argmax-intent  max-similarity  \n",
       "0                                affirm        0.549619  \n",
       "1                                affirm        0.646484  \n",
       "2                                affirm        0.434290  \n",
       "3                                affirm        1.000000  \n",
       "4                                affirm        0.869060  \n",
       "...                                 ...             ...  \n",
       "2512                              greet        0.431908  \n",
       "2513                 estimate_emissions        0.369015  \n",
       "2514               express_positive-emo        0.478335  \n",
       "2515  inquire-ask_clarification-offsets        0.653187  \n",
       "2516                                faq        0.391764  \n",
       "\n",
       "[2517 rows x 4 columns]"
      ]
     },
     "execution_count": 10,
     "metadata": {},
     "output_type": "execute_result"
    }
   ],
   "source": [
    "nlu_examples[['text', 'intent', 'argmax-intent', 'max-similarity']]"
   ]
  },
  {
   "cell_type": "markdown",
   "id": "a7f41ad9-03fc-4953-b521-e584a0c12b2f",
   "metadata": {},
   "source": [
    "## Cluster: \"nice\" or \"not so nice\"?\n",
    "----"
   ]
  },
  {
   "cell_type": "markdown",
   "id": "6ce1fec4-a59d-4c35-b4db-fdc84407c514",
   "metadata": {
    "tags": []
   },
   "source": [
    "### Approach 1: Threshold"
   ]
  },
  {
   "cell_type": "code",
   "execution_count": 11,
   "id": "86b6a0ac-2e4e-40d3-9963-78c4d1526e79",
   "metadata": {},
   "outputs": [],
   "source": [
    "thresholds = pd.DataFrame({\"threshold\" : np.arange(0.1, 1.05, 0.05)})\n",
    "thresholds['nice-examples'] = thresholds[\"threshold\"].apply(lambda t : (cos_sim.max(axis=1) >= t).sum())\n",
    "thresholds['percentage-of-nice-examples'] = thresholds['nice-examples'].apply(lambda x : f\"{x/cos_sim.shape[0]:.2%}\")"
   ]
  },
  {
   "cell_type": "code",
   "execution_count": 12,
   "id": "f956c994-e751-418f-9dcb-9013bdb37797",
   "metadata": {},
   "outputs": [
    {
     "data": {
      "text/html": [
       "<div>\n",
       "<style scoped>\n",
       "    .dataframe tbody tr th:only-of-type {\n",
       "        vertical-align: middle;\n",
       "    }\n",
       "\n",
       "    .dataframe tbody tr th {\n",
       "        vertical-align: top;\n",
       "    }\n",
       "\n",
       "    .dataframe thead th {\n",
       "        text-align: right;\n",
       "    }\n",
       "</style>\n",
       "<table border=\"1\" class=\"dataframe\">\n",
       "  <thead>\n",
       "    <tr style=\"text-align: right;\">\n",
       "      <th></th>\n",
       "      <th>threshold</th>\n",
       "      <th>nice-examples</th>\n",
       "      <th>percentage-of-nice-examples</th>\n",
       "    </tr>\n",
       "  </thead>\n",
       "  <tbody>\n",
       "    <tr>\n",
       "      <th>0</th>\n",
       "      <td>0.10</td>\n",
       "      <td>2517</td>\n",
       "      <td>100.00%</td>\n",
       "    </tr>\n",
       "    <tr>\n",
       "      <th>1</th>\n",
       "      <td>0.15</td>\n",
       "      <td>2517</td>\n",
       "      <td>100.00%</td>\n",
       "    </tr>\n",
       "    <tr>\n",
       "      <th>2</th>\n",
       "      <td>0.20</td>\n",
       "      <td>2514</td>\n",
       "      <td>99.88%</td>\n",
       "    </tr>\n",
       "    <tr>\n",
       "      <th>3</th>\n",
       "      <td>0.25</td>\n",
       "      <td>2495</td>\n",
       "      <td>99.13%</td>\n",
       "    </tr>\n",
       "    <tr>\n",
       "      <th>4</th>\n",
       "      <td>0.30</td>\n",
       "      <td>2407</td>\n",
       "      <td>95.63%</td>\n",
       "    </tr>\n",
       "    <tr>\n",
       "      <th>5</th>\n",
       "      <td>0.35</td>\n",
       "      <td>2216</td>\n",
       "      <td>88.04%</td>\n",
       "    </tr>\n",
       "    <tr>\n",
       "      <th>6</th>\n",
       "      <td>0.40</td>\n",
       "      <td>1963</td>\n",
       "      <td>77.99%</td>\n",
       "    </tr>\n",
       "    <tr>\n",
       "      <th>7</th>\n",
       "      <td>0.45</td>\n",
       "      <td>1665</td>\n",
       "      <td>66.15%</td>\n",
       "    </tr>\n",
       "    <tr>\n",
       "      <th>8</th>\n",
       "      <td>0.50</td>\n",
       "      <td>1387</td>\n",
       "      <td>55.11%</td>\n",
       "    </tr>\n",
       "    <tr>\n",
       "      <th>9</th>\n",
       "      <td>0.55</td>\n",
       "      <td>1134</td>\n",
       "      <td>45.05%</td>\n",
       "    </tr>\n",
       "    <tr>\n",
       "      <th>10</th>\n",
       "      <td>0.60</td>\n",
       "      <td>957</td>\n",
       "      <td>38.02%</td>\n",
       "    </tr>\n",
       "    <tr>\n",
       "      <th>11</th>\n",
       "      <td>0.65</td>\n",
       "      <td>800</td>\n",
       "      <td>31.78%</td>\n",
       "    </tr>\n",
       "    <tr>\n",
       "      <th>12</th>\n",
       "      <td>0.70</td>\n",
       "      <td>702</td>\n",
       "      <td>27.89%</td>\n",
       "    </tr>\n",
       "    <tr>\n",
       "      <th>13</th>\n",
       "      <td>0.75</td>\n",
       "      <td>580</td>\n",
       "      <td>23.04%</td>\n",
       "    </tr>\n",
       "    <tr>\n",
       "      <th>14</th>\n",
       "      <td>0.80</td>\n",
       "      <td>483</td>\n",
       "      <td>19.19%</td>\n",
       "    </tr>\n",
       "    <tr>\n",
       "      <th>15</th>\n",
       "      <td>0.85</td>\n",
       "      <td>409</td>\n",
       "      <td>16.25%</td>\n",
       "    </tr>\n",
       "    <tr>\n",
       "      <th>16</th>\n",
       "      <td>0.90</td>\n",
       "      <td>324</td>\n",
       "      <td>12.87%</td>\n",
       "    </tr>\n",
       "    <tr>\n",
       "      <th>17</th>\n",
       "      <td>0.95</td>\n",
       "      <td>253</td>\n",
       "      <td>10.05%</td>\n",
       "    </tr>\n",
       "    <tr>\n",
       "      <th>18</th>\n",
       "      <td>1.00</td>\n",
       "      <td>70</td>\n",
       "      <td>2.78%</td>\n",
       "    </tr>\n",
       "  </tbody>\n",
       "</table>\n",
       "</div>"
      ],
      "text/plain": [
       "    threshold  nice-examples percentage-of-nice-examples\n",
       "0        0.10           2517                     100.00%\n",
       "1        0.15           2517                     100.00%\n",
       "2        0.20           2514                      99.88%\n",
       "3        0.25           2495                      99.13%\n",
       "4        0.30           2407                      95.63%\n",
       "5        0.35           2216                      88.04%\n",
       "6        0.40           1963                      77.99%\n",
       "7        0.45           1665                      66.15%\n",
       "8        0.50           1387                      55.11%\n",
       "9        0.55           1134                      45.05%\n",
       "10       0.60            957                      38.02%\n",
       "11       0.65            800                      31.78%\n",
       "12       0.70            702                      27.89%\n",
       "13       0.75            580                      23.04%\n",
       "14       0.80            483                      19.19%\n",
       "15       0.85            409                      16.25%\n",
       "16       0.90            324                      12.87%\n",
       "17       0.95            253                      10.05%\n",
       "18       1.00             70                       2.78%"
      ]
     },
     "execution_count": 12,
     "metadata": {},
     "output_type": "execute_result"
    }
   ],
   "source": [
    "thresholds"
   ]
  },
  {
   "cell_type": "markdown",
   "id": "b74fe5fc-5d22-48cb-bcce-0f0fc4a3bfff",
   "metadata": {},
   "source": [
    "#### Conclusion:\n",
    "-  if we just go with very high similarity, we only cover a small percentage of examples\n",
    "- instead let's just the clustering to confirm/deny labels...\n",
    "- if they \"agree\", we say it is a \"nice\" example"
   ]
  },
  {
   "cell_type": "markdown",
   "id": "a2c05be4-6936-4b03-8665-1757665200a7",
   "metadata": {},
   "source": [
    "### Approach 2: Check Alignment with \"Argmax-Intent\""
   ]
  },
  {
   "cell_type": "code",
   "execution_count": 13,
   "id": "5fa8da75-9b94-4a98-8354-ae55637c8010",
   "metadata": {},
   "outputs": [],
   "source": [
    "nlu_examples['disagree'] = nlu_examples['argmax-intent'] != nlu_examples['intent']"
   ]
  },
  {
   "cell_type": "code",
   "execution_count": 14,
   "id": "11f515c1-0616-40b8-9a92-6541f0824307",
   "metadata": {},
   "outputs": [
    {
     "data": {
      "text/plain": [
       "False    1419\n",
       "True     1098\n",
       "Name: disagree, dtype: int64"
      ]
     },
     "execution_count": 14,
     "metadata": {},
     "output_type": "execute_result"
    }
   ],
   "source": [
    "nlu_examples['disagree'].value_counts()"
   ]
  },
  {
   "cell_type": "code",
   "execution_count": 15,
   "id": "642e3100-8ce6-45b3-b7cc-10d34f5e7be5",
   "metadata": {},
   "outputs": [
    {
     "data": {
      "image/png": "[encoded data removed]",
      "text/plain": [
       "<Figure size 720x360 with 1 Axes>"
      ]
     },
     "metadata": {
      "needs_background": "light"
     },
     "output_type": "display_data"
    }
   ],
   "source": [
    "intent_support = eda_utils.intent_support(\n",
    "    {'with-agreement' : nlu_examples[~nlu_examples['disagree']],\n",
    "     \"all\" : nlu_examples,\n",
    "})"
   ]
  },
  {
   "cell_type": "code",
   "execution_count": 16,
   "id": "5e28b49f-4f45-45d3-a042-8fda8dd75f81",
   "metadata": {},
   "outputs": [
    {
     "data": {
      "text/html": [
       "<div>\n",
       "<style scoped>\n",
       "    .dataframe tbody tr th:only-of-type {\n",
       "        vertical-align: middle;\n",
       "    }\n",
       "\n",
       "    .dataframe tbody tr th {\n",
       "        vertical-align: top;\n",
       "    }\n",
       "\n",
       "    .dataframe thead th {\n",
       "        text-align: right;\n",
       "    }\n",
       "</style>\n",
       "<table border=\"1\" class=\"dataframe\">\n",
       "  <thead>\n",
       "    <tr style=\"text-align: right;\">\n",
       "      <th></th>\n",
       "      <th>intent</th>\n",
       "      <th>with-agreement</th>\n",
       "      <th>all</th>\n",
       "    </tr>\n",
       "  </thead>\n",
       "  <tbody>\n",
       "    <tr>\n",
       "      <th>10</th>\n",
       "      <td>faq</td>\n",
       "      <td>150</td>\n",
       "      <td>643</td>\n",
       "    </tr>\n",
       "    <tr>\n",
       "      <th>15</th>\n",
       "      <td>inform</td>\n",
       "      <td>495</td>\n",
       "      <td>616</td>\n",
       "    </tr>\n",
       "    <tr>\n",
       "      <th>1</th>\n",
       "      <td>affirm</td>\n",
       "      <td>129</td>\n",
       "      <td>255</td>\n",
       "    </tr>\n",
       "    <tr>\n",
       "      <th>18</th>\n",
       "      <td>inquire-ask_clarification-offsets</td>\n",
       "      <td>102</td>\n",
       "      <td>124</td>\n",
       "    </tr>\n",
       "    <tr>\n",
       "      <th>5</th>\n",
       "      <td>estimate_emissions</td>\n",
       "      <td>21</td>\n",
       "      <td>73</td>\n",
       "    </tr>\n",
       "    <tr>\n",
       "      <th>3</th>\n",
       "      <td>deny</td>\n",
       "      <td>38</td>\n",
       "      <td>69</td>\n",
       "    </tr>\n",
       "    <tr>\n",
       "      <th>12</th>\n",
       "      <td>greet</td>\n",
       "      <td>52</td>\n",
       "      <td>63</td>\n",
       "    </tr>\n",
       "    <tr>\n",
       "      <th>19</th>\n",
       "      <td>insult</td>\n",
       "      <td>35</td>\n",
       "      <td>63</td>\n",
       "    </tr>\n",
       "    <tr>\n",
       "      <th>24</th>\n",
       "      <td>why</td>\n",
       "      <td>34</td>\n",
       "      <td>59</td>\n",
       "    </tr>\n",
       "    <tr>\n",
       "      <th>16</th>\n",
       "      <td>inform_notunderstanding</td>\n",
       "      <td>26</td>\n",
       "      <td>58</td>\n",
       "    </tr>\n",
       "    <tr>\n",
       "      <th>11</th>\n",
       "      <td>farewell</td>\n",
       "      <td>39</td>\n",
       "      <td>57</td>\n",
       "    </tr>\n",
       "    <tr>\n",
       "      <th>22</th>\n",
       "      <td>thank</td>\n",
       "      <td>42</td>\n",
       "      <td>54</td>\n",
       "    </tr>\n",
       "    <tr>\n",
       "      <th>7</th>\n",
       "      <td>express_positive-emo</td>\n",
       "      <td>27</td>\n",
       "      <td>48</td>\n",
       "    </tr>\n",
       "    <tr>\n",
       "      <th>23</th>\n",
       "      <td>vulgar</td>\n",
       "      <td>31</td>\n",
       "      <td>46</td>\n",
       "    </tr>\n",
       "    <tr>\n",
       "      <th>9</th>\n",
       "      <td>express_uncertainty</td>\n",
       "      <td>31</td>\n",
       "      <td>43</td>\n",
       "    </tr>\n",
       "    <tr>\n",
       "      <th>8</th>\n",
       "      <td>express_surprise</td>\n",
       "      <td>26</td>\n",
       "      <td>43</td>\n",
       "    </tr>\n",
       "    <tr>\n",
       "      <th>17</th>\n",
       "      <td>inquire-ask_clarification</td>\n",
       "      <td>22</td>\n",
       "      <td>38</td>\n",
       "    </tr>\n",
       "    <tr>\n",
       "      <th>2</th>\n",
       "      <td>buy_offsets</td>\n",
       "      <td>24</td>\n",
       "      <td>35</td>\n",
       "    </tr>\n",
       "    <tr>\n",
       "      <th>14</th>\n",
       "      <td>how_calculated</td>\n",
       "      <td>24</td>\n",
       "      <td>29</td>\n",
       "    </tr>\n",
       "    <tr>\n",
       "      <th>4</th>\n",
       "      <td>deny_flying</td>\n",
       "      <td>19</td>\n",
       "      <td>28</td>\n",
       "    </tr>\n",
       "    <tr>\n",
       "      <th>6</th>\n",
       "      <td>express_negative-emo</td>\n",
       "      <td>18</td>\n",
       "      <td>25</td>\n",
       "    </tr>\n",
       "    <tr>\n",
       "      <th>21</th>\n",
       "      <td>restart</td>\n",
       "      <td>18</td>\n",
       "      <td>18</td>\n",
       "    </tr>\n",
       "    <tr>\n",
       "      <th>20</th>\n",
       "      <td>meta_inform_problem_bad-link</td>\n",
       "      <td>0</td>\n",
       "      <td>12</td>\n",
       "    </tr>\n",
       "    <tr>\n",
       "      <th>0</th>\n",
       "      <td>SCENARIO</td>\n",
       "      <td>8</td>\n",
       "      <td>10</td>\n",
       "    </tr>\n",
       "    <tr>\n",
       "      <th>13</th>\n",
       "      <td>help</td>\n",
       "      <td>8</td>\n",
       "      <td>8</td>\n",
       "    </tr>\n",
       "  </tbody>\n",
       "</table>\n",
       "</div>"
      ],
      "text/plain": [
       "                               intent  with-agreement  all\n",
       "10                                faq             150  643\n",
       "15                             inform             495  616\n",
       "1                              affirm             129  255\n",
       "18  inquire-ask_clarification-offsets             102  124\n",
       "5                  estimate_emissions              21   73\n",
       "3                                deny              38   69\n",
       "12                              greet              52   63\n",
       "19                             insult              35   63\n",
       "24                                why              34   59\n",
       "16            inform_notunderstanding              26   58\n",
       "11                           farewell              39   57\n",
       "22                              thank              42   54\n",
       "7                express_positive-emo              27   48\n",
       "23                             vulgar              31   46\n",
       "9                 express_uncertainty              31   43\n",
       "8                    express_surprise              26   43\n",
       "17          inquire-ask_clarification              22   38\n",
       "2                         buy_offsets              24   35\n",
       "14                     how_calculated              24   29\n",
       "4                         deny_flying              19   28\n",
       "6                express_negative-emo              18   25\n",
       "21                            restart              18   18\n",
       "20       meta_inform_problem_bad-link               0   12\n",
       "0                            SCENARIO               8   10\n",
       "13                               help               8    8"
      ]
     },
     "execution_count": 16,
     "metadata": {},
     "output_type": "execute_result"
    }
   ],
   "source": [
    "intent_support.sort_values(\"all\", ascending=False)"
   ]
  },
  {
   "cell_type": "markdown",
   "id": "87deb8e6-fe50-4367-8e41-458769af7e04",
   "metadata": {},
   "source": [
    "##  Save the Result\n",
    "----"
   ]
  },
  {
   "cell_type": "code",
   "execution_count": 17,
   "id": "768c29d6-5486-4538-ba63-ed669a9e3918",
   "metadata": {},
   "outputs": [],
   "source": [
    "import rasa.shared.utils.io as rasa_io_utils\n",
    "from rasa.shared.nlu.training_data.message import Message\n",
    "from rasa.shared.nlu.training_data.training_data import TrainingData\n",
    "from rasa.shared.nlu.constants import TEXT, ENTITIES, INTENT"
   ]
  },
  {
   "cell_type": "code",
   "execution_count": 18,
   "id": "95b8d444-f60c-4804-991a-8cf8d84ae992",
   "metadata": {},
   "outputs": [],
   "source": [
    "def write_to_yml(df : pd.DataFrame, intent_col :str, out_path : str) -> None:\n",
    "    td = TrainingData(\n",
    "        training_examples=[\n",
    "            Message(data={TEXT: str(text), INTENT: intent})\n",
    "            for text, intent in zip(df[TEXT], df[intent_col])\n",
    "        ]\n",
    "    )\n",
    "    rasa_io_utils.write_text_file(td.nlu_as_yaml(), out_path)"
   ]
  },
  {
   "cell_type": "code",
   "execution_count": 19,
   "id": "16835cca-f67b-4172-9e97-9e48feb5d7f9",
   "metadata": {},
   "outputs": [],
   "source": [
    "write_to_yml( df = nlu_examples[nlu_examples['disagree']], intent_col = 'intent', out_path = './noisy.yml')\n",
    "write_to_yml( df = nlu_examples[~nlu_examples['disagree']], intent_col = 'intent', out_path = './clean.yml')"
   ]
  },
  {
   "cell_type": "code",
   "execution_count": null,
   "id": "3b430707-d9c0-4847-9488-8a3b4fed394b",
   "metadata": {},
   "outputs": [],
   "source": []
  }
 ],
 "metadata": {
  "kernelspec": {
   "display_name": "Python 3 (ipykernel)",
   "language": "python",
   "name": "python3"
  },
  "language_info": {
   "codemirror_mode": {
    "name": "ipython",
    "version": 3
   },
   "file_extension": ".py",
   "mimetype": "text/x-python",
   "name": "python",
   "nbconvert_exporter": "python",
   "pygments_lexer": "ipython3",
   "version": "3.8.10"
  }
 },
 "nbformat": 4,
 "nbformat_minor": 5
}
