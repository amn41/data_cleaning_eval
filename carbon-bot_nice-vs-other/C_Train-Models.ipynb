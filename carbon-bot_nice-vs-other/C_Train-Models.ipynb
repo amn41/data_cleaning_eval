{
 "cells": [
  {
   "cell_type": "markdown",
   "id": "b0afa35d-c476-4e12-874b-17907b700af1",
   "metadata": {},
   "source": [
    "# C. Train Models and Compare Them"
   ]
  },
  {
   "cell_type": "code",
   "execution_count": 1,
   "id": "71c372cc-2f75-4f73-bad7-fc8c9f310e95",
   "metadata": {},
   "outputs": [
    {
     "name": "stderr",
     "output_type": "stream",
     "text": [
      "/Users/kabu/Documents/workspace/rasa2/.venv/lib/python3.8/site-packages/future/standard_library/__init__.py:65: DeprecationWarning: the imp module is deprecated in favour of importlib; see the module's documentation for alternative uses\n",
      "  import imp\n"
     ]
    }
   ],
   "source": [
    "from pathlib import Path\n",
    "import itertools \n",
    "from rasa.shared.nlu.training_data.training_data import TrainingData\n",
    "\n",
    "from framework.utils import rasa_utils, eda_utils, split_utils"
   ]
  },
  {
   "cell_type": "markdown",
   "id": "2da89e22-cc39-4d97-bba7-ea542ec0f31e",
   "metadata": {},
   "source": [
    "## Update Carbon Bot Configuration\n",
    "----"
   ]
  },
  {
   "cell_type": "code",
   "execution_count": 2,
   "id": "6b74bd14-81f4-4452-b098-5fbf3fd898b7",
   "metadata": {},
   "outputs": [],
   "source": [
    "CARBON_BOT = Path('../../../../carbon-bot-e2e')"
   ]
  },
  {
   "cell_type": "markdown",
   "id": "64b9c85d-5dfc-44ee-861f-42939e496779",
   "metadata": {},
   "source": [
    "#### Original Carbon Bot Config"
   ]
  },
  {
   "cell_type": "code",
   "execution_count": 3,
   "id": "523df23f-2624-4b15-b731-963866b734e2",
   "metadata": {},
   "outputs": [
    {
     "name": "stdout",
     "output_type": "stream",
     "text": [
      "language: en\n",
      "\n",
      "pipeline:\n",
      "- name: ConveRTTokenizer\n",
      "- name: ConveRTFeaturizer\n",
      "  model_url: https://github.com/davidalami/ConveRT/releases/download/1.0/nocontext_tf_model.tar.gz\n",
      "- name: CountVectorsFeaturizer\n",
      "- name: CountVectorsFeaturizer\n",
      "  analyzer: char_wb\n",
      "  min_ngram: 1\n",
      "  max_ngram: 4\n",
      "- name: RegexFeaturizer\n",
      "- name: LexicalSyntacticFeaturizer\n",
      "- name: DIETClassifier\n",
      "  epochs: 60\n",
      "  scale_loss: False\n",
      "  connection_density: 0.7\n",
      "  transformer_size: 512\n",
      "  BILOU_flag: True\n",
      "- name: ResponseSelector\n",
      "  epochs: 50\n",
      "- name: EntitySynonymMapper\n",
      "\n",
      "policies:\n",
      "- name: MemoizationPolicy\n",
      "  max_history: 5\n",
      "- name: TEDPolicy\n",
      "  max_history: 5\n",
      "  batch_strategy: balanced\n",
      "  epochs: 300 \n",
      "  random_seed: 666\n",
      "  evaluate_on_num_examples: 0\n",
      "  enable_fallback_prediction: False\n",
      "- name: RulePolicy\n"
     ]
    }
   ],
   "source": [
    "!cat {CARBON_BOT}/config.yml"
   ]
  },
  {
   "cell_type": "markdown",
   "id": "c1e3e801-91a7-4135-afff-0434df93910d",
   "metadata": {},
   "source": [
    "#### Updated Rasa3 Config"
   ]
  },
  {
   "cell_type": "code",
   "execution_count": 4,
   "id": "39158f21-c704-432d-954a-59a74eb8409b",
   "metadata": {},
   "outputs": [
    {
     "name": "stdout",
     "output_type": "stream",
     "text": [
      "recipe: default.v1\n",
      "language: en\n",
      "\n",
      "pipeline:\n",
      "- name: WhitespaceTokenizer\n",
      "- name: ConveRTFeaturizer\n",
      "  model_url: https://github.com/davidalami/ConveRT/releases/download/1.0/nocontext_tf_model.tar.gz\n",
      "- name: CountVectorsFeaturizer\n",
      "- name: CountVectorsFeaturizer\n",
      "  analyzer: char_wb\n",
      "  min_ngram: 1\n",
      "  max_ngram: 4\n",
      "- name: RegexFeaturizer\n",
      "- name: LexicalSyntacticFeaturizer\n",
      "- name: DIETClassifier\n",
      "  epochs: 60\n",
      "  scale_loss: False\n",
      "  connection_density: 0.7\n",
      "  transformer_size: 512\n",
      "  BILOU_flag: True\n",
      "\n",
      "policies:"
     ]
    }
   ],
   "source": [
    "!cat ./config.yml"
   ]
  },
  {
   "cell_type": "markdown",
   "id": "b64b2060-ce26-47c1-807d-7d075f7a3d76",
   "metadata": {},
   "source": [
    "## Test 1: Train with/without Noisy data and Evaluate on Hold Outs\n",
    "---"
   ]
  },
  {
   "cell_type": "markdown",
   "id": "426d9f54-7e67-4822-bf29-f5397249bb9a",
   "metadata": {},
   "source": [
    "### Create Hold Outs"
   ]
  },
  {
   "cell_type": "code",
   "execution_count": 5,
   "id": "aad8ad24-e706-4006-b289-85c85f45d2b8",
   "metadata": {},
   "outputs": [],
   "source": [
    "training_data = {name : rasa_utils.load_nlu_data(f'./{name}.yml') for name in ['clean', 'noisy']}"
   ]
  },
  {
   "cell_type": "markdown",
   "id": "d31cdb09-7312-4caf-a2a0-cfa6d5b4fd8f",
   "metadata": {},
   "source": [
    "Split each dataset"
   ]
  },
  {
   "cell_type": "code",
   "execution_count": 6,
   "id": "aa201ac7-a4eb-4067-9976-f34755604d2d",
   "metadata": {},
   "outputs": [],
   "source": [
    "splits_per_type = dict()\n",
    "for type_, td in training_data.items():\n",
    "    (train, test), _ = split_utils.stratified_split_for_nlu_data(\n",
    "        nlu_data=td, labels = [str(message.get('intent')) for message in td.intent_examples], test_fraction=0.2, random_seed=123)\n",
    "    splits_per_type[type_] = {'train' : train, 'test' : test}"
   ]
  },
  {
   "cell_type": "markdown",
   "id": "af6ebf70-5db4-4281-a742-2105b6c188fb",
   "metadata": {},
   "source": [
    "Recombine results"
   ]
  },
  {
   "cell_type": "code",
   "execution_count": 7,
   "id": "a0e71bfc-a565-4077-a0ac-797a10fc4a61",
   "metadata": {},
   "outputs": [],
   "source": [
    "combined_splits = {\n",
    "    split_name : TrainingData(\n",
    "        training_examples=list(itertools.chain.from_iterable(\n",
    "            [splits_per_type[type_][split_name].training_examples for type_ in splits_per_type]\n",
    "        ))\n",
    "    ) \n",
    "    for split_name in ['train', 'test']\n",
    "}    "
   ]
  },
  {
   "cell_type": "markdown",
   "id": "8b8e98cb-5c2b-462e-8019-614a9c4753e4",
   "metadata": {},
   "source": [
    "Write to disk"
   ]
  },
  {
   "cell_type": "code",
   "execution_count": 8,
   "id": "8274c2be-4552-4e40-954f-2dda900965d1",
   "metadata": {},
   "outputs": [],
   "source": [
    "!mkdir -p splits"
   ]
  },
  {
   "cell_type": "code",
   "execution_count": 9,
   "id": "aa38b45d-6fa6-439a-bc2a-6f5f23e11b7d",
   "metadata": {},
   "outputs": [],
   "source": [
    "for split_name in combined_splits:\n",
    "    combined_splits[split_name].persist_nlu(f\"./splits/{split_name}_noisy-and-clean.yml\")\n",
    "for type_ in splits_per_type:\n",
    "    for split_name in splits_per_type[type_]:\n",
    "        splits_per_type[type_][split_name].persist_nlu(f\"./splits/{split_name}_{type_}-only.yml\")"
   ]
  },
  {
   "cell_type": "code",
   "execution_count": 10,
   "id": "d31b088f-9cf1-4726-8788-81dbb54cbd66",
   "metadata": {},
   "outputs": [
    {
     "name": "stdout",
     "output_type": "stream",
     "text": [
      "test_clean-only.yml       test_noisy-only.yml       train_noisy-and-clean.yml\n",
      "test_noisy-and-clean.yml  train_clean-only.yml      train_noisy-only.yml\n"
     ]
    }
   ],
   "source": [
    "!ls splits/"
   ]
  },
  {
   "cell_type": "markdown",
   "id": "01bd9b46-7c6c-48c7-bee7-5a71566da222",
   "metadata": {},
   "source": [
    "### Train Models"
   ]
  },
  {
   "cell_type": "markdown",
   "id": "823c625b-9fba-4019-913d-c1d2554f4262",
   "metadata": {},
   "source": [
    "Note: rasa train nlu command still seems to be broken -- will ask for data to be provided via --nlu flag which then does not work"
   ]
  },
  {
   "cell_type": "markdown",
   "id": "ab4435f9-e45f-478a-9c86-10ef43fc1222",
   "metadata": {},
   "source": [
    "```bash\n",
    "mkdir -p models\n",
    "\n",
    "rasa train --fixed-model-name all-data-model --config ./config.yml --data ./splits/train_noisy-and-clean.yml --out ./models/ \n",
    "\n",
    "rasa train --fixed-model-name clean-model --config ./config.yml --data ./splits/train_clean-only.yml --out ./models/ \n",
    "```"
   ]
  },
  {
   "cell_type": "markdown",
   "id": "0f681442-9e79-4883-a9e7-98559b625322",
   "metadata": {},
   "source": [
    "### Predict and Compare "
   ]
  },
  {
   "cell_type": "code",
   "execution_count": 11,
   "id": "49958137-e5d8-411b-958e-3936dd1b90fa",
   "metadata": {},
   "outputs": [
    {
     "name": "stderr",
     "output_type": "stream",
     "text": [
      "2022-05-31 13:23:22.658649: I tensorflow/core/platform/cpu_feature_guard.cc:151] This TensorFlow binary is optimized with oneAPI Deep Neural Network Library (oneDNN) to use the following CPU instructions in performance-critical operations:  AVX2 FMA\n",
      "To enable them in other operations, rebuild TensorFlow with the appropriate compiler flags.\n"
     ]
    },
    {
     "name": "stdout",
     "output_type": "stream",
     "text": [
      "CPU times: user 30 s, sys: 2.2 s, total: 32.2 s\n",
      "Wall time: 31.6 s\n"
     ]
    }
   ],
   "source": [
    "%%time\n",
    "%%capture\n",
    "models = { name :  rasa_utils.RasaModel(model_tar=f\"./models/{name}-model.tar.gz\") for name in ['clean', 'all-data']}"
   ]
  },
  {
   "cell_type": "code",
   "execution_count": 15,
   "id": "cd95009d-7837-47cb-a3c3-a521e8d21f2f",
   "metadata": {},
   "outputs": [],
   "source": [
    "test_data = {name : eda_utils.load_nlu_data(f'./splits/test_{name}-only.yml') for name in ['clean', 'noisy']}"
   ]
  },
  {
   "cell_type": "code",
   "execution_count": 16,
   "id": "8ef6b16c-c0e8-4922-a93e-549eb692eb16",
   "metadata": {},
   "outputs": [
    {
     "name": "stdout",
     "output_type": "stream",
     "text": [
      "CPU times: user 1min 37s, sys: 14.5 s, total: 1min 51s\n",
      "Wall time: 31.8 s\n"
     ]
    }
   ],
   "source": [
    "%%time\n",
    "for df_name, df in test_data.items():\n",
    "    for model_name, model in models.items():\n",
    "        tmp = df['text'].apply(lambda text: model.predict_nlu(text).get('intent'))\n",
    "        df[f'{model_name}-model-intent'] = tmp.apply(lambda pred :  pred['name'])\n",
    "        df[f'{model_name}-model-confidence'] = tmp.apply(lambda pred :  pred['confidence'])"
   ]
  },
  {
   "cell_type": "code",
   "execution_count": 26,
   "id": "2d4fa0d9-6db3-4cba-88ac-ce81bda49610",
   "metadata": {},
   "outputs": [
    {
     "data": {
      "image/png": "[encoded data removed]",
      "text/plain": [
       "<Figure size 1440x360 with 2 Axes>"
      ]
     },
     "metadata": {
      "needs_background": "light"
     },
     "output_type": "display_data"
    }
   ],
   "source": [
    "_ = test_data['clean'][['clean-model-confidence', 'all-data-model-confidence']].hist(figsize=(20,5))"
   ]
  },
  {
   "cell_type": "code",
   "execution_count": 27,
   "id": "9e504c5f-0499-4791-8fdb-a86b7e34ead1",
   "metadata": {},
   "outputs": [
    {
     "data": {
      "image/png": "[encoded data removed]",
      "text/plain": [
       "<Figure size 1440x360 with 2 Axes>"
      ]
     },
     "metadata": {
      "needs_background": "light"
     },
     "output_type": "display_data"
    }
   ],
   "source": [
    "_ = test_data['noisy'][['clean-model-confidence', 'all-data-model-confidence']].hist(figsize=(20,5))"
   ]
  },
  {
   "cell_type": "code",
   "execution_count": 24,
   "id": "5b02fd7f-5c02-4672-8727-c537a8da9e6c",
   "metadata": {},
   "outputs": [
    {
     "data": {
      "text/html": [
       "<div>\n",
       "<style scoped>\n",
       "    .dataframe tbody tr th:only-of-type {\n",
       "        vertical-align: middle;\n",
       "    }\n",
       "\n",
       "    .dataframe tbody tr th {\n",
       "        vertical-align: top;\n",
       "    }\n",
       "\n",
       "    .dataframe thead th {\n",
       "        text-align: right;\n",
       "    }\n",
       "</style>\n",
       "<table border=\"1\" class=\"dataframe\">\n",
       "  <thead>\n",
       "    <tr style=\"text-align: right;\">\n",
       "      <th></th>\n",
       "      <th>clean-model-confidence</th>\n",
       "      <th>all-data-model-confidence</th>\n",
       "    </tr>\n",
       "  </thead>\n",
       "  <tbody>\n",
       "    <tr>\n",
       "      <th>count</th>\n",
       "      <td>220.000000</td>\n",
       "      <td>220.000000</td>\n",
       "    </tr>\n",
       "    <tr>\n",
       "      <th>mean</th>\n",
       "      <td>0.788145</td>\n",
       "      <td>0.952823</td>\n",
       "    </tr>\n",
       "    <tr>\n",
       "      <th>std</th>\n",
       "      <td>0.243600</td>\n",
       "      <td>0.126642</td>\n",
       "    </tr>\n",
       "    <tr>\n",
       "      <th>min</th>\n",
       "      <td>0.199177</td>\n",
       "      <td>0.326982</td>\n",
       "    </tr>\n",
       "    <tr>\n",
       "      <th>5%</th>\n",
       "      <td>0.315593</td>\n",
       "      <td>0.640096</td>\n",
       "    </tr>\n",
       "    <tr>\n",
       "      <th>10%</th>\n",
       "      <td>0.410640</td>\n",
       "      <td>0.855854</td>\n",
       "    </tr>\n",
       "    <tr>\n",
       "      <th>20%</th>\n",
       "      <td>0.528074</td>\n",
       "      <td>0.976499</td>\n",
       "    </tr>\n",
       "    <tr>\n",
       "      <th>25%</th>\n",
       "      <td>0.571530</td>\n",
       "      <td>0.995906</td>\n",
       "    </tr>\n",
       "    <tr>\n",
       "      <th>30%</th>\n",
       "      <td>0.632066</td>\n",
       "      <td>0.998666</td>\n",
       "    </tr>\n",
       "    <tr>\n",
       "      <th>40%</th>\n",
       "      <td>0.792607</td>\n",
       "      <td>0.999734</td>\n",
       "    </tr>\n",
       "    <tr>\n",
       "      <th>50%</th>\n",
       "      <td>0.925949</td>\n",
       "      <td>0.999924</td>\n",
       "    </tr>\n",
       "    <tr>\n",
       "      <th>max</th>\n",
       "      <td>1.000000</td>\n",
       "      <td>1.000000</td>\n",
       "    </tr>\n",
       "  </tbody>\n",
       "</table>\n",
       "</div>"
      ],
      "text/plain": [
       "       clean-model-confidence  all-data-model-confidence\n",
       "count              220.000000                 220.000000\n",
       "mean                 0.788145                   0.952823\n",
       "std                  0.243600                   0.126642\n",
       "min                  0.199177                   0.326982\n",
       "5%                   0.315593                   0.640096\n",
       "10%                  0.410640                   0.855854\n",
       "20%                  0.528074                   0.976499\n",
       "25%                  0.571530                   0.995906\n",
       "30%                  0.632066                   0.998666\n",
       "40%                  0.792607                   0.999734\n",
       "50%                  0.925949                   0.999924\n",
       "max                  1.000000                   1.000000"
      ]
     },
     "execution_count": 24,
     "metadata": {},
     "output_type": "execute_result"
    }
   ],
   "source": [
    "test_data['noisy'][['clean-model-confidence', 'all-data-model-confidence']].describe(\n",
    "    percentiles=[0.05, 0.1, 0.2, 0.25, 0.3, 0.4, 0.5]\n",
    ")"
   ]
  },
  {
   "cell_type": "markdown",
   "id": "6994f987-43fc-4872-a138-409f7f2333ad",
   "metadata": {},
   "source": [
    "## Approach 2: Cross Validation\n",
    "---"
   ]
  },
  {
   "cell_type": "markdown",
   "id": "d3723d7e-f123-4b54-ac09-e0cec84d08ee",
   "metadata": {},
   "source": [
    "```bash\n",
    "\n",
    "rasa test nlu --cross-validation --nlu clean.yml --out ./cross-valid-clean\n",
    "\n",
    "rasa test nlu --cross-validation --nlu ../../../../carbon-bot-e2e/data/nlu.yml  --out ./cross-valid-all\n",
    "```"
   ]
  },
  {
   "cell_type": "code",
   "execution_count": 31,
   "id": "d4291163-9c60-4576-8212-11b0d71032a9",
   "metadata": {},
   "outputs": [],
   "source": [
    "import json"
   ]
  },
  {
   "cell_type": "code",
   "execution_count": 41,
   "id": "880405d7-9e21-491c-8859-fa36ed6d5a50",
   "metadata": {},
   "outputs": [],
   "source": [
    "results = {}\n",
    "for key in ['clean', 'all']:\n",
    "    with open(f'./cross-valid-{key}/intent_report.json') as f:\n",
    "        results[key] = json.load(f)"
   ]
  },
  {
   "cell_type": "code",
   "execution_count": 42,
   "id": "d55f317b-4782-4fb0-9e6e-465b5f47f820",
   "metadata": {},
   "outputs": [
    {
     "data": {
      "text/plain": [
       "{'precision': 0.9387068876007686,\n",
       " 'recall': 0.937984496124031,\n",
       " 'f1-score': 0.9377445983620147,\n",
       " 'support': 1419}"
      ]
     },
     "execution_count": 42,
     "metadata": {},
     "output_type": "execute_result"
    }
   ],
   "source": [
    "results['clean']['weighted avg']"
   ]
  },
  {
   "cell_type": "code",
   "execution_count": 43,
   "id": "04319c63-f5b3-49f7-879c-bfcedca7eee8",
   "metadata": {},
   "outputs": [
    {
     "data": {
      "text/plain": [
       "{'precision': 0.8218753567869241,\n",
       " 'recall': 0.8224076281287247,\n",
       " 'f1-score': 0.8210418960634472,\n",
       " 'support': 2517}"
      ]
     },
     "execution_count": 43,
     "metadata": {},
     "output_type": "execute_result"
    }
   ],
   "source": [
    "results['all']['weighted avg']"
   ]
  },
  {
   "cell_type": "code",
   "execution_count": null,
   "id": "3d391db8-194d-4f86-96ca-df0dde8ae20e",
   "metadata": {},
   "outputs": [],
   "source": []
  }
 ],
 "metadata": {
  "kernelspec": {
   "display_name": "Python 3 (ipykernel)",
   "language": "python",
   "name": "python3"
  },
  "language_info": {
   "codemirror_mode": {
    "name": "ipython",
    "version": 3
   },
   "file_extension": ".py",
   "mimetype": "text/x-python",
   "name": "python",
   "nbconvert_exporter": "python",
   "pygments_lexer": "ipython3",
   "version": "3.8.10"
  }
 },
 "nbformat": 4,
 "nbformat_minor": 5
}
